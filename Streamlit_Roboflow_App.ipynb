{
 "cells": [
  {
   "cell_type": "code",
   "execution_count": null,
   "id": "b956ff3b",
   "metadata": {},
   "outputs": [],
   "source": [
    "!pip install inference streamlit --quiet\n"
   ]
  },
  {
   "cell_type": "code",
   "execution_count": null,
   "id": "df5fa693",
   "metadata": {},
   "outputs": [],
   "source": [
    "import streamlit as st\n",
    "from inference_sdk import InferenceHTTPClient\n",
    "from PIL import Image\n",
    "import os\n"
   ]
  },
  {
   "cell_type": "code",
   "execution_count": null,
   "id": "24510a25",
   "metadata": {},
   "outputs": [],
   "source": [
    "CLIENT = InferenceHTTPClient(\n",
    "    api_url=\"https://serverless.roboflow.com\",\n",
    "    api_key=\"8vYYsvtFfCX0nzLiY3PZ\"\n",
    ")\n"
   ]
  },
  {
   "cell_type": "code",
   "execution_count": null,
   "id": "57b514ef",
   "metadata": {},
   "outputs": [],
   "source": [
    "st.set_page_config(page_title=\"License Plate & Container ID Detector\", layout=\"centered\")\n",
    "st.title(\"📸 License Plate & Container ID Detector\")\n",
    "\n",
    "# Upload or capture image\n",
    "uploaded_file = st.file_uploader(\"Upload an image\", type=[\"jpg\", \"jpeg\", \"png\"])\n",
    "\n",
    "if uploaded_file is not None:\n",
    "    # Save uploaded image\n",
    "    image = Image.open(uploaded_file)\n",
    "    image_path = \"uploaded_image.jpg\"\n",
    "    image.save(image_path)\n",
    "\n",
    "    st.image(image, caption=\"Uploaded Image\", use_column_width=True)\n",
    "\n",
    "    # Run inference\n",
    "    with st.spinner(\"Running detection...\"):\n",
    "        result = CLIENT.infer(image_path, model_id=\"custom-workflow-object-detection-i7df3/3\")\n",
    "\n",
    "    st.success(\"Detection complete!\")\n",
    "    st.json(result)\n"
   ]
  }
 ],
 "metadata": {},
 "nbformat": 4,
 "nbformat_minor": 5
}
